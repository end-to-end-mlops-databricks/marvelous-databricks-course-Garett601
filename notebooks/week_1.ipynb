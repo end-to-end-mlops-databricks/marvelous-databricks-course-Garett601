{
 "cells": [
  {
   "cell_type": "code",
   "execution_count": 1,
   "metadata": {},
   "outputs": [],
   "source": [
    "from power_consumption.preprocessing import DataProcessor\n",
    "from power_consumption.model import ConsumptionModel\n",
    "\n",
    "from power_consumption.utils import load_config"
   ]
  },
  {
   "cell_type": "code",
   "execution_count": null,
   "metadata": {},
   "outputs": [],
   "source": [
    "config = load_config(\"../configs/project_configs.yml\")"
   ]
  },
  {
   "cell_type": "code",
   "execution_count": null,
   "metadata": {},
   "outputs": [],
   "source": [
    "processor = DataProcessor(dataset_id=849, config=config)\n",
    "processor.preprocess_data()\n",
    "X_train, X_test, y_train, y_test = processor.split_data()\n",
    "X_train_transformed, X_test_transformed = processor.fit_transform_features(X_train, X_test)"
   ]
  },
  {
   "cell_type": "code",
   "execution_count": 4,
   "metadata": {},
   "outputs": [],
   "source": [
    "model = ConsumptionModel(processor.preprocessor, config)"
   ]
  },
  {
   "cell_type": "code",
   "execution_count": null,
   "metadata": {},
   "outputs": [],
   "source": [
    "model.train(X_train, y_train)"
   ]
  },
  {
   "cell_type": "code",
   "execution_count": 6,
   "metadata": {},
   "outputs": [],
   "source": [
    "y_pred = model.predict(X_test)"
   ]
  },
  {
   "cell_type": "code",
   "execution_count": 7,
   "metadata": {},
   "outputs": [],
   "source": [
    "mse, r2 = model.evaluate(X_test, y_test)"
   ]
  },
  {
   "cell_type": "code",
   "execution_count": null,
   "metadata": {},
   "outputs": [],
   "source": [
    "# Print evaluation metrics\n",
    "print(\"Mean Squared Error for each target:\")\n",
    "for i, target in enumerate(config['target']):\n",
    "    print(f\"{target}: {mse[i]:.4f}\")\n",
    "\n",
    "print(\"\\nR-squared for each target:\")\n",
    "for i, target in enumerate(config['target']):\n",
    "    print(f\"{target}: {r2[i]:.4f}\")"
   ]
  },
  {
   "cell_type": "code",
   "execution_count": 9,
   "metadata": {},
   "outputs": [],
   "source": [
    "from power_consumption.utils import visualise_results, plot_actual_vs_predicted, plot_feature_importance"
   ]
  },
  {
   "cell_type": "code",
   "execution_count": null,
   "metadata": {},
   "outputs": [],
   "source": [
    "# Visualize the results\n",
    "visualise_results(y_test, y_pred, config['target'])\n",
    "\n",
    "# Plot actual vs predicted\n",
    "plot_actual_vs_predicted(y_test.values, y_pred, config['target'])\n",
    "\n",
    "# Get and plot feature importance\n",
    "feature_importance, feature_names = model.get_feature_importance()\n",
    "plot_feature_importance(feature_importance, feature_names)"
   ]
  },
  {
   "cell_type": "code",
   "execution_count": null,
   "metadata": {},
   "outputs": [],
   "source": []
  }
 ],
 "metadata": {
  "kernelspec": {
   "display_name": ".venv",
   "language": "python",
   "name": "python3"
  },
  "language_info": {
   "codemirror_mode": {
    "name": "ipython",
    "version": 3
   },
   "file_extension": ".py",
   "mimetype": "text/x-python",
   "name": "python",
   "nbconvert_exporter": "python",
   "pygments_lexer": "ipython3",
   "version": "3.11.10"
  }
 },
 "nbformat": 4,
 "nbformat_minor": 2
}
